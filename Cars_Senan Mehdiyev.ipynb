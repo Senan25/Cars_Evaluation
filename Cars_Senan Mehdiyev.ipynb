{
 "cells": [
  {
   "cell_type": "markdown",
   "metadata": {},
   "source": [
    "## Note\n",
    "I have used **Random Forest Classifier** and **GridSearch** which is one of the best **cross-validation** techniques to find optimal hyper-parameter"
   ]
  },
  {
   "cell_type": "markdown",
   "metadata": {},
   "source": [
    "### Importing libraries"
   ]
  },
  {
   "cell_type": "code",
   "execution_count": 1,
   "metadata": {},
   "outputs": [],
   "source": [
    "import numpy as np\n",
    "import pandas as pd\n",
    "import matplotlib.pyplot as plt\n",
    "%matplotlib inline\n",
    "import seaborn as sns\n",
    "import sklearn.model_selection as sms\n",
    "import sklearn.preprocessing as sp\n",
    "import sklearn.linear_model as slm\n",
    "import sklearn.metrics as sm\n",
    "import sklearn.ensemble as ens\n",
    "from warnings import filterwarnings \n",
    "filterwarnings('ignore') # to ignore warnings\n",
    "import sklearn.linear_model as slm\n",
    "from sklearn import svm"
   ]
  },
  {
   "cell_type": "markdown",
   "metadata": {},
   "source": [
    "### Loading data"
   ]
  },
  {
   "cell_type": "code",
   "execution_count": 2,
   "metadata": {},
   "outputs": [
    {
     "data": {
      "text/html": [
       "<div>\n",
       "<style scoped>\n",
       "    .dataframe tbody tr th:only-of-type {\n",
       "        vertical-align: middle;\n",
       "    }\n",
       "\n",
       "    .dataframe tbody tr th {\n",
       "        vertical-align: top;\n",
       "    }\n",
       "\n",
       "    .dataframe thead th {\n",
       "        text-align: right;\n",
       "    }\n",
       "</style>\n",
       "<table border=\"1\" class=\"dataframe\">\n",
       "  <thead>\n",
       "    <tr style=\"text-align: right;\">\n",
       "      <th></th>\n",
       "      <th>A1</th>\n",
       "      <th>A2</th>\n",
       "      <th>A3</th>\n",
       "      <th>A4</th>\n",
       "      <th>A5</th>\n",
       "      <th>A6</th>\n",
       "      <th>T</th>\n",
       "    </tr>\n",
       "  </thead>\n",
       "  <tbody>\n",
       "    <tr>\n",
       "      <th>0</th>\n",
       "      <td>vhigh</td>\n",
       "      <td>vhigh</td>\n",
       "      <td>2</td>\n",
       "      <td>2</td>\n",
       "      <td>small</td>\n",
       "      <td>low</td>\n",
       "      <td>unacc</td>\n",
       "    </tr>\n",
       "    <tr>\n",
       "      <th>1</th>\n",
       "      <td>vhigh</td>\n",
       "      <td>vhigh</td>\n",
       "      <td>2</td>\n",
       "      <td>2</td>\n",
       "      <td>small</td>\n",
       "      <td>med</td>\n",
       "      <td>unacc</td>\n",
       "    </tr>\n",
       "    <tr>\n",
       "      <th>2</th>\n",
       "      <td>vhigh</td>\n",
       "      <td>vhigh</td>\n",
       "      <td>2</td>\n",
       "      <td>2</td>\n",
       "      <td>small</td>\n",
       "      <td>high</td>\n",
       "      <td>unacc</td>\n",
       "    </tr>\n",
       "    <tr>\n",
       "      <th>3</th>\n",
       "      <td>vhigh</td>\n",
       "      <td>vhigh</td>\n",
       "      <td>2</td>\n",
       "      <td>2</td>\n",
       "      <td>med</td>\n",
       "      <td>low</td>\n",
       "      <td>unacc</td>\n",
       "    </tr>\n",
       "    <tr>\n",
       "      <th>4</th>\n",
       "      <td>vhigh</td>\n",
       "      <td>vhigh</td>\n",
       "      <td>2</td>\n",
       "      <td>2</td>\n",
       "      <td>med</td>\n",
       "      <td>med</td>\n",
       "      <td>unacc</td>\n",
       "    </tr>\n",
       "  </tbody>\n",
       "</table>\n",
       "</div>"
      ],
      "text/plain": [
       "      A1     A2 A3 A4     A5    A6      T\n",
       "0  vhigh  vhigh  2  2  small   low  unacc\n",
       "1  vhigh  vhigh  2  2  small   med  unacc\n",
       "2  vhigh  vhigh  2  2  small  high  unacc\n",
       "3  vhigh  vhigh  2  2    med   low  unacc\n",
       "4  vhigh  vhigh  2  2    med   med  unacc"
      ]
     },
     "execution_count": 2,
     "metadata": {},
     "output_type": "execute_result"
    }
   ],
   "source": [
    "#df=pd.read_csv(\"D:\\Data\\Gamboo\\Cars\\car.data\", names=['A1', 'A2', 'A3', 'A4', 'A5', 'A6', 'T']) \n",
    "df=pd.read_csv(\"car.data\")\n",
    "df.head()\n",
    "# A -- attribites, T - Target"
   ]
  },
  {
   "cell_type": "markdown",
   "metadata": {},
   "source": [
    "### Preprocessing"
   ]
  },
  {
   "cell_type": "code",
   "execution_count": 3,
   "metadata": {},
   "outputs": [
    {
     "data": {
      "text/html": [
       "<div>\n",
       "<style scoped>\n",
       "    .dataframe tbody tr th:only-of-type {\n",
       "        vertical-align: middle;\n",
       "    }\n",
       "\n",
       "    .dataframe tbody tr th {\n",
       "        vertical-align: top;\n",
       "    }\n",
       "\n",
       "    .dataframe thead th {\n",
       "        text-align: right;\n",
       "    }\n",
       "</style>\n",
       "<table border=\"1\" class=\"dataframe\">\n",
       "  <thead>\n",
       "    <tr style=\"text-align: right;\">\n",
       "      <th></th>\n",
       "      <th>A1</th>\n",
       "      <th>A2</th>\n",
       "      <th>A3</th>\n",
       "      <th>A4</th>\n",
       "      <th>A5</th>\n",
       "      <th>A6</th>\n",
       "      <th>T</th>\n",
       "    </tr>\n",
       "  </thead>\n",
       "  <tbody>\n",
       "  </tbody>\n",
       "</table>\n",
       "</div>"
      ],
      "text/plain": [
       "Empty DataFrame\n",
       "Columns: [A1, A2, A3, A4, A5, A6, T]\n",
       "Index: []"
      ]
     },
     "execution_count": 3,
     "metadata": {},
     "output_type": "execute_result"
    }
   ],
   "source": [
    "df[df.duplicated()]\n",
    "# no suplicates to remove"
   ]
  },
  {
   "cell_type": "code",
   "execution_count": 4,
   "metadata": {
    "scrolled": true
   },
   "outputs": [
    {
     "name": "stdout",
     "output_type": "stream",
     "text": [
      "<class 'pandas.core.frame.DataFrame'>\n",
      "RangeIndex: 1728 entries, 0 to 1727\n",
      "Data columns (total 7 columns):\n",
      " #   Column  Non-Null Count  Dtype \n",
      "---  ------  --------------  ----- \n",
      " 0   A1      1728 non-null   object\n",
      " 1   A2      1728 non-null   object\n",
      " 2   A3      1728 non-null   object\n",
      " 3   A4      1728 non-null   object\n",
      " 4   A5      1728 non-null   object\n",
      " 5   A6      1728 non-null   object\n",
      " 6   T       1728 non-null   object\n",
      "dtypes: object(7)\n",
      "memory usage: 94.6+ KB\n"
     ]
    }
   ],
   "source": [
    "df.info()"
   ]
  },
  {
   "cell_type": "code",
   "execution_count": 5,
   "metadata": {},
   "outputs": [
    {
     "data": {
      "text/plain": [
       "array(['unacc', 'acc', 'vgood', 'good'], dtype=object)"
      ]
     },
     "execution_count": 5,
     "metadata": {},
     "output_type": "execute_result"
    }
   ],
   "source": [
    "df['T'].unique()"
   ]
  },
  {
   "cell_type": "code",
   "execution_count": 6,
   "metadata": {},
   "outputs": [
    {
     "data": {
      "text/html": [
       "<div>\n",
       "<style scoped>\n",
       "    .dataframe tbody tr th:only-of-type {\n",
       "        vertical-align: middle;\n",
       "    }\n",
       "\n",
       "    .dataframe tbody tr th {\n",
       "        vertical-align: top;\n",
       "    }\n",
       "\n",
       "    .dataframe thead th {\n",
       "        text-align: right;\n",
       "    }\n",
       "</style>\n",
       "<table border=\"1\" class=\"dataframe\">\n",
       "  <thead>\n",
       "    <tr style=\"text-align: right;\">\n",
       "      <th></th>\n",
       "      <th>A1</th>\n",
       "      <th>A2</th>\n",
       "      <th>A3</th>\n",
       "      <th>A4</th>\n",
       "      <th>A5</th>\n",
       "      <th>A6</th>\n",
       "      <th>T</th>\n",
       "    </tr>\n",
       "  </thead>\n",
       "  <tbody>\n",
       "    <tr>\n",
       "      <th>count</th>\n",
       "      <td>1728</td>\n",
       "      <td>1728</td>\n",
       "      <td>1728</td>\n",
       "      <td>1728</td>\n",
       "      <td>1728</td>\n",
       "      <td>1728</td>\n",
       "      <td>1728</td>\n",
       "    </tr>\n",
       "    <tr>\n",
       "      <th>unique</th>\n",
       "      <td>4</td>\n",
       "      <td>4</td>\n",
       "      <td>4</td>\n",
       "      <td>3</td>\n",
       "      <td>3</td>\n",
       "      <td>3</td>\n",
       "      <td>4</td>\n",
       "    </tr>\n",
       "    <tr>\n",
       "      <th>top</th>\n",
       "      <td>low</td>\n",
       "      <td>low</td>\n",
       "      <td>4</td>\n",
       "      <td>4</td>\n",
       "      <td>small</td>\n",
       "      <td>low</td>\n",
       "      <td>unacc</td>\n",
       "    </tr>\n",
       "    <tr>\n",
       "      <th>freq</th>\n",
       "      <td>432</td>\n",
       "      <td>432</td>\n",
       "      <td>432</td>\n",
       "      <td>576</td>\n",
       "      <td>576</td>\n",
       "      <td>576</td>\n",
       "      <td>1210</td>\n",
       "    </tr>\n",
       "  </tbody>\n",
       "</table>\n",
       "</div>"
      ],
      "text/plain": [
       "          A1    A2    A3    A4     A5    A6      T\n",
       "count   1728  1728  1728  1728   1728  1728   1728\n",
       "unique     4     4     4     3      3     3      4\n",
       "top      low   low     4     4  small   low  unacc\n",
       "freq     432   432   432   576    576   576   1210"
      ]
     },
     "execution_count": 6,
     "metadata": {},
     "output_type": "execute_result"
    }
   ],
   "source": [
    "df.describe()"
   ]
  },
  {
   "cell_type": "code",
   "execution_count": 7,
   "metadata": {},
   "outputs": [
    {
     "name": "stdout",
     "output_type": "stream",
     "text": [
      "low      432\n",
      "med      432\n",
      "vhigh    432\n",
      "high     432\n",
      "Name: A1, dtype: int64\n",
      "---------------\n",
      "low      432\n",
      "med      432\n",
      "vhigh    432\n",
      "high     432\n",
      "Name: A2, dtype: int64\n",
      "---------------\n",
      "4        432\n",
      "3        432\n",
      "5more    432\n",
      "2        432\n",
      "Name: A3, dtype: int64\n",
      "---------------\n",
      "4       576\n",
      "more    576\n",
      "2       576\n",
      "Name: A4, dtype: int64\n",
      "---------------\n",
      "small    576\n",
      "med      576\n",
      "big      576\n",
      "Name: A5, dtype: int64\n",
      "---------------\n",
      "low     576\n",
      "med     576\n",
      "high    576\n",
      "Name: A6, dtype: int64\n",
      "---------------\n",
      "unacc    1210\n",
      "acc       384\n",
      "good       69\n",
      "vgood      65\n",
      "Name: T, dtype: int64\n",
      "---------------\n"
     ]
    }
   ],
   "source": [
    "for c in list(df.columns):    \n",
    "    print(df[c].value_counts())\n",
    "    print(15*'-')"
   ]
  },
  {
   "cell_type": "markdown",
   "metadata": {},
   "source": [
    "There is a recommended general rule when creating **\"Dummy Variables\"**. It is to delete the dummy variable with the largest number of each variable. This helps us to **avoid multicollinearity**. Since the **degree of freedom is n-1**, we must reduce the number of dummy variables for each variable by one. However, as seen above, the values of each column are equally distributed. So it doesn't matter, for instance, we can easily delete the first ones"
   ]
  },
  {
   "cell_type": "code",
   "execution_count": 8,
   "metadata": {},
   "outputs": [
    {
     "data": {
      "text/html": [
       "<div>\n",
       "<style scoped>\n",
       "    .dataframe tbody tr th:only-of-type {\n",
       "        vertical-align: middle;\n",
       "    }\n",
       "\n",
       "    .dataframe tbody tr th {\n",
       "        vertical-align: top;\n",
       "    }\n",
       "\n",
       "    .dataframe thead th {\n",
       "        text-align: right;\n",
       "    }\n",
       "</style>\n",
       "<table border=\"1\" class=\"dataframe\">\n",
       "  <thead>\n",
       "    <tr style=\"text-align: right;\">\n",
       "      <th></th>\n",
       "      <th>T</th>\n",
       "      <th>A1_low</th>\n",
       "      <th>A1_med</th>\n",
       "      <th>A1_vhigh</th>\n",
       "      <th>A2_low</th>\n",
       "      <th>A2_med</th>\n",
       "      <th>A2_vhigh</th>\n",
       "      <th>A3_3</th>\n",
       "      <th>A3_4</th>\n",
       "      <th>A3_5more</th>\n",
       "      <th>A4_4</th>\n",
       "      <th>A4_more</th>\n",
       "      <th>A5_med</th>\n",
       "      <th>A5_small</th>\n",
       "      <th>A6_low</th>\n",
       "      <th>A6_med</th>\n",
       "    </tr>\n",
       "  </thead>\n",
       "  <tbody>\n",
       "    <tr>\n",
       "      <th>0</th>\n",
       "      <td>unacc</td>\n",
       "      <td>0</td>\n",
       "      <td>0</td>\n",
       "      <td>1</td>\n",
       "      <td>0</td>\n",
       "      <td>0</td>\n",
       "      <td>1</td>\n",
       "      <td>0</td>\n",
       "      <td>0</td>\n",
       "      <td>0</td>\n",
       "      <td>0</td>\n",
       "      <td>0</td>\n",
       "      <td>0</td>\n",
       "      <td>1</td>\n",
       "      <td>1</td>\n",
       "      <td>0</td>\n",
       "    </tr>\n",
       "    <tr>\n",
       "      <th>1</th>\n",
       "      <td>unacc</td>\n",
       "      <td>0</td>\n",
       "      <td>0</td>\n",
       "      <td>1</td>\n",
       "      <td>0</td>\n",
       "      <td>0</td>\n",
       "      <td>1</td>\n",
       "      <td>0</td>\n",
       "      <td>0</td>\n",
       "      <td>0</td>\n",
       "      <td>0</td>\n",
       "      <td>0</td>\n",
       "      <td>0</td>\n",
       "      <td>1</td>\n",
       "      <td>0</td>\n",
       "      <td>1</td>\n",
       "    </tr>\n",
       "    <tr>\n",
       "      <th>2</th>\n",
       "      <td>unacc</td>\n",
       "      <td>0</td>\n",
       "      <td>0</td>\n",
       "      <td>1</td>\n",
       "      <td>0</td>\n",
       "      <td>0</td>\n",
       "      <td>1</td>\n",
       "      <td>0</td>\n",
       "      <td>0</td>\n",
       "      <td>0</td>\n",
       "      <td>0</td>\n",
       "      <td>0</td>\n",
       "      <td>0</td>\n",
       "      <td>1</td>\n",
       "      <td>0</td>\n",
       "      <td>0</td>\n",
       "    </tr>\n",
       "    <tr>\n",
       "      <th>3</th>\n",
       "      <td>unacc</td>\n",
       "      <td>0</td>\n",
       "      <td>0</td>\n",
       "      <td>1</td>\n",
       "      <td>0</td>\n",
       "      <td>0</td>\n",
       "      <td>1</td>\n",
       "      <td>0</td>\n",
       "      <td>0</td>\n",
       "      <td>0</td>\n",
       "      <td>0</td>\n",
       "      <td>0</td>\n",
       "      <td>1</td>\n",
       "      <td>0</td>\n",
       "      <td>1</td>\n",
       "      <td>0</td>\n",
       "    </tr>\n",
       "    <tr>\n",
       "      <th>4</th>\n",
       "      <td>unacc</td>\n",
       "      <td>0</td>\n",
       "      <td>0</td>\n",
       "      <td>1</td>\n",
       "      <td>0</td>\n",
       "      <td>0</td>\n",
       "      <td>1</td>\n",
       "      <td>0</td>\n",
       "      <td>0</td>\n",
       "      <td>0</td>\n",
       "      <td>0</td>\n",
       "      <td>0</td>\n",
       "      <td>1</td>\n",
       "      <td>0</td>\n",
       "      <td>0</td>\n",
       "      <td>1</td>\n",
       "    </tr>\n",
       "  </tbody>\n",
       "</table>\n",
       "</div>"
      ],
      "text/plain": [
       "       T  A1_low  A1_med  A1_vhigh  A2_low  A2_med  A2_vhigh  A3_3  A3_4  \\\n",
       "0  unacc       0       0         1       0       0         1     0     0   \n",
       "1  unacc       0       0         1       0       0         1     0     0   \n",
       "2  unacc       0       0         1       0       0         1     0     0   \n",
       "3  unacc       0       0         1       0       0         1     0     0   \n",
       "4  unacc       0       0         1       0       0         1     0     0   \n",
       "\n",
       "   A3_5more  A4_4  A4_more  A5_med  A5_small  A6_low  A6_med  \n",
       "0         0     0        0       0         1       1       0  \n",
       "1         0     0        0       0         1       0       1  \n",
       "2         0     0        0       0         1       0       0  \n",
       "3         0     0        0       1         0       1       0  \n",
       "4         0     0        0       1         0       0       1  "
      ]
     },
     "execution_count": 8,
     "metadata": {},
     "output_type": "execute_result"
    }
   ],
   "source": [
    "pd.set_option('display.max_columns', None)\n",
    "df = pd.get_dummies(df, columns=['A1', 'A2', 'A3', 'A4', 'A5', 'A6'], drop_first=True)\n",
    "df.head()\n",
    "# drop_firts -- drops the firsts"
   ]
  },
  {
   "cell_type": "markdown",
   "metadata": {},
   "source": [
    "### Splitting data"
   ]
  },
  {
   "cell_type": "code",
   "execution_count": 9,
   "metadata": {},
   "outputs": [
    {
     "data": {
      "text/plain": [
       "Index(['T', 'A1_low', 'A1_med', 'A1_vhigh', 'A2_low', 'A2_med', 'A2_vhigh',\n",
       "       'A3_3', 'A3_4', 'A3_5more', 'A4_4', 'A4_more', 'A5_med', 'A5_small',\n",
       "       'A6_low', 'A6_med'],\n",
       "      dtype='object')"
      ]
     },
     "execution_count": 9,
     "metadata": {},
     "output_type": "execute_result"
    }
   ],
   "source": [
    "df.columns"
   ]
  },
  {
   "cell_type": "code",
   "execution_count": 10,
   "metadata": {},
   "outputs": [],
   "source": [
    "X = df.drop(columns=['T'])\n",
    "y = df[['T']]"
   ]
  },
  {
   "cell_type": "code",
   "execution_count": 11,
   "metadata": {},
   "outputs": [
    {
     "name": "stdout",
     "output_type": "stream",
     "text": [
      "(1209, 15) (519, 15) (1209, 1) (519, 1)\n"
     ]
    }
   ],
   "source": [
    "x_train, x_test, y_train, y_test = sms.train_test_split(X, y, test_size=0.3, random_state=25)\n",
    "print(x_train.shape, x_test.shape, y_train.shape, y_test.shape)"
   ]
  },
  {
   "cell_type": "markdown",
   "metadata": {},
   "source": [
    "### Modelling"
   ]
  },
  {
   "cell_type": "code",
   "execution_count": 12,
   "metadata": {},
   "outputs": [
    {
     "data": {
      "text/html": [
       "<div>\n",
       "<style scoped>\n",
       "    .dataframe tbody tr th:only-of-type {\n",
       "        vertical-align: middle;\n",
       "    }\n",
       "\n",
       "    .dataframe tbody tr th {\n",
       "        vertical-align: top;\n",
       "    }\n",
       "\n",
       "    .dataframe thead th {\n",
       "        text-align: right;\n",
       "    }\n",
       "</style>\n",
       "<table border=\"1\" class=\"dataframe\">\n",
       "  <thead>\n",
       "    <tr style=\"text-align: right;\">\n",
       "      <th></th>\n",
       "    </tr>\n",
       "  </thead>\n",
       "  <tbody>\n",
       "    <tr>\n",
       "      <th>BAS</th>\n",
       "    </tr>\n",
       "    <tr>\n",
       "      <th>AS</th>\n",
       "    </tr>\n",
       "  </tbody>\n",
       "</table>\n",
       "</div>"
      ],
      "text/plain": [
       "Empty DataFrame\n",
       "Columns: []\n",
       "Index: [BAS, AS]"
      ]
     },
     "execution_count": 12,
     "metadata": {},
     "output_type": "execute_result"
    }
   ],
   "source": [
    "# to merge all scores and metrics results altogether\n",
    "performance=pd.DataFrame(data=None, index=['BAS','AS'])\n",
    "performance"
   ]
  },
  {
   "cell_type": "code",
   "execution_count": 13,
   "metadata": {},
   "outputs": [],
   "source": [
    "# creating function to evaluate model at one run\n",
    "def evaluate(model,model_name):\n",
    "    performance[model_name]=[sm.balanced_accuracy_score(y_test, model.predict(x_test)),\n",
    "    sm.accuracy_score(y_test, model.predict(x_test)) ]\n",
    "    \n",
    "    print(sm.classification_report(y_test, model.predict(x_test)))\n",
    "    print(\"--------Balanced Accuracy Score--------\")\n",
    "    print(sm.balanced_accuracy_score(y_test, model.predict(x_test)))\n",
    "    print(\"-------Accuracy Score------------------\")\n",
    "    print(sm.accuracy_score(y_test, model.predict(x_test)))\n",
    "    \n",
    "pd.options.display.float_format = '{:.3f}'.format"
   ]
  },
  {
   "cell_type": "markdown",
   "metadata": {},
   "source": [
    "#### Logistic regression"
   ]
  },
  {
   "cell_type": "markdown",
   "metadata": {},
   "source": [
    "We will do **Hyperparameter tuning** to find **otimal best** parameters in some models"
   ]
  },
  {
   "cell_type": "code",
   "execution_count": 14,
   "metadata": {},
   "outputs": [
    {
     "data": {
      "text/plain": [
       "GridSearchCV(estimator=LogisticRegression(),\n",
       "             param_grid={'C': [1, 10, 50, 100],\n",
       "                         'penalty': ('l1', 'l2', 'elastic', 'none')})"
      ]
     },
     "execution_count": 14,
     "metadata": {},
     "output_type": "execute_result"
    }
   ],
   "source": [
    "parameters = {'penalty':('l1','l2','elastic', 'none'),'C':[1, 10, 50, 100] }\n",
    "lr1 = slm.LogisticRegression()\n",
    "clf1 = sms.GridSearchCV(lr1, parameters)\n",
    "clf1.fit(x_train, y_train)"
   ]
  },
  {
   "cell_type": "code",
   "execution_count": 15,
   "metadata": {},
   "outputs": [
    {
     "name": "stdout",
     "output_type": "stream",
     "text": [
      "              precision    recall  f1-score   support\n",
      "\n",
      "         acc       0.87      0.83      0.85       108\n",
      "        good       0.85      0.89      0.87        19\n",
      "       unacc       0.96      0.97      0.97       369\n",
      "       vgood       0.85      0.96      0.90        23\n",
      "\n",
      "    accuracy                           0.94       519\n",
      "   macro avg       0.88      0.91      0.90       519\n",
      "weighted avg       0.94      0.94      0.94       519\n",
      "\n",
      "--------Balanced Accuracy Score--------\n",
      "0.9130178973414449\n",
      "-------Accuracy Score------------------\n",
      "0.9364161849710982\n"
     ]
    }
   ],
   "source": [
    "evaluate(clf1, 'Log_reg_0.5')"
   ]
  },
  {
   "cell_type": "markdown",
   "metadata": {},
   "source": [
    "#### SVC classification model"
   ]
  },
  {
   "cell_type": "code",
   "execution_count": 16,
   "metadata": {
    "scrolled": true
   },
   "outputs": [
    {
     "data": {
      "text/plain": [
       "{'C': 10}"
      ]
     },
     "execution_count": 16,
     "metadata": {},
     "output_type": "execute_result"
    }
   ],
   "source": [
    "parameters = {'C':[1, 10, 50, 100] }\n",
    "svc = svm.SVC()\n",
    "clf2 = sms.GridSearchCV(svc, parameters)\n",
    "clf2.fit(x_train, y_train)\n",
    "clf2.best_params_"
   ]
  },
  {
   "cell_type": "code",
   "execution_count": 17,
   "metadata": {},
   "outputs": [
    {
     "name": "stdout",
     "output_type": "stream",
     "text": [
      "              precision    recall  f1-score   support\n",
      "\n",
      "         acc       0.96      0.99      0.98       108\n",
      "        good       1.00      0.89      0.94        19\n",
      "       unacc       1.00      1.00      1.00       369\n",
      "       vgood       1.00      0.96      0.98        23\n",
      "\n",
      "    accuracy                           0.99       519\n",
      "   macro avg       0.99      0.96      0.97       519\n",
      "weighted avg       0.99      0.99      0.99       519\n",
      "\n",
      "--------Balanced Accuracy Score--------\n",
      "0.959822323719042\n",
      "-------Accuracy Score------------------\n",
      "0.9903660886319846\n"
     ]
    }
   ],
   "source": [
    "evaluate(clf2, 'SVC')"
   ]
  },
  {
   "cell_type": "code",
   "execution_count": 18,
   "metadata": {},
   "outputs": [
    {
     "data": {
      "text/html": [
       "<div>\n",
       "<style scoped>\n",
       "    .dataframe tbody tr th:only-of-type {\n",
       "        vertical-align: middle;\n",
       "    }\n",
       "\n",
       "    .dataframe tbody tr th {\n",
       "        vertical-align: top;\n",
       "    }\n",
       "\n",
       "    .dataframe thead th {\n",
       "        text-align: right;\n",
       "    }\n",
       "</style>\n",
       "<table border=\"1\" class=\"dataframe\">\n",
       "  <thead>\n",
       "    <tr style=\"text-align: right;\">\n",
       "      <th></th>\n",
       "      <th>SVC</th>\n",
       "    </tr>\n",
       "  </thead>\n",
       "  <tbody>\n",
       "    <tr>\n",
       "      <th>BAS</th>\n",
       "      <td>0.960</td>\n",
       "    </tr>\n",
       "    <tr>\n",
       "      <th>AS</th>\n",
       "      <td>0.990</td>\n",
       "    </tr>\n",
       "  </tbody>\n",
       "</table>\n",
       "</div>"
      ],
      "text/plain": [
       "      SVC\n",
       "BAS 0.960\n",
       "AS  0.990"
      ]
     },
     "execution_count": 18,
     "metadata": {},
     "output_type": "execute_result"
    }
   ],
   "source": [
    "performance[['SVC']]"
   ]
  },
  {
   "cell_type": "markdown",
   "metadata": {},
   "source": [
    "### Ensemble methods"
   ]
  },
  {
   "cell_type": "markdown",
   "metadata": {},
   "source": [
    "#### RandomForest classification model"
   ]
  },
  {
   "cell_type": "code",
   "execution_count": 19,
   "metadata": {
    "scrolled": true
   },
   "outputs": [
    {
     "data": {
      "text/plain": [
       "{'n_estimators': 190}"
      ]
     },
     "execution_count": 19,
     "metadata": {},
     "output_type": "execute_result"
    }
   ],
   "source": [
    "parameters = { 'n_estimators':[i for i in range(150,200,10)] }\n",
    "rfc = ens.RandomForestClassifier(random_state=25)\n",
    "clf3 = sms.GridSearchCV(rfc, parameters)\n",
    "clf3.fit(x_train, y_train)\n",
    "\n",
    "clf3.best_params_"
   ]
  },
  {
   "cell_type": "code",
   "execution_count": 20,
   "metadata": {},
   "outputs": [
    {
     "name": "stdout",
     "output_type": "stream",
     "text": [
      "              precision    recall  f1-score   support\n",
      "\n",
      "         acc       0.80      0.88      0.84       108\n",
      "        good       0.62      0.26      0.37        19\n",
      "       unacc       0.96      0.98      0.97       369\n",
      "       vgood       0.82      0.61      0.70        23\n",
      "\n",
      "    accuracy                           0.92       519\n",
      "   macro avg       0.80      0.68      0.72       519\n",
      "weighted avg       0.91      0.92      0.91       519\n",
      "\n",
      "--------Balanced Accuracy Score--------\n",
      "0.6824507399345542\n",
      "-------Accuracy Score------------------\n",
      "0.9152215799614644\n"
     ]
    }
   ],
   "source": [
    "evaluate(clf3, 'R_Forest')"
   ]
  },
  {
   "cell_type": "code",
   "execution_count": 21,
   "metadata": {},
   "outputs": [
    {
     "data": {
      "text/html": [
       "<div>\n",
       "<style scoped>\n",
       "    .dataframe tbody tr th:only-of-type {\n",
       "        vertical-align: middle;\n",
       "    }\n",
       "\n",
       "    .dataframe tbody tr th {\n",
       "        vertical-align: top;\n",
       "    }\n",
       "\n",
       "    .dataframe thead th {\n",
       "        text-align: right;\n",
       "    }\n",
       "</style>\n",
       "<table border=\"1\" class=\"dataframe\">\n",
       "  <thead>\n",
       "    <tr style=\"text-align: right;\">\n",
       "      <th></th>\n",
       "      <th>R_Forest</th>\n",
       "    </tr>\n",
       "  </thead>\n",
       "  <tbody>\n",
       "    <tr>\n",
       "      <th>BAS</th>\n",
       "      <td>0.682</td>\n",
       "    </tr>\n",
       "    <tr>\n",
       "      <th>AS</th>\n",
       "      <td>0.915</td>\n",
       "    </tr>\n",
       "  </tbody>\n",
       "</table>\n",
       "</div>"
      ],
      "text/plain": [
       "     R_Forest\n",
       "BAS     0.682\n",
       "AS      0.915"
      ]
     },
     "execution_count": 21,
     "metadata": {},
     "output_type": "execute_result"
    }
   ],
   "source": [
    "performance[['R_Forest']]"
   ]
  },
  {
   "cell_type": "markdown",
   "metadata": {},
   "source": [
    "#### ExtraTree classification model"
   ]
  },
  {
   "cell_type": "code",
   "execution_count": 22,
   "metadata": {
    "scrolled": true
   },
   "outputs": [
    {
     "data": {
      "text/plain": [
       "{'n_estimators': 90}"
      ]
     },
     "execution_count": 22,
     "metadata": {},
     "output_type": "execute_result"
    }
   ],
   "source": [
    "parameters = { 'n_estimators':[i for i in range(80,200,10)] }\n",
    "etc = ens.ExtraTreesClassifier(random_state=25)\n",
    "clf4 = sms.GridSearchCV(etc, parameters)\n",
    "clf4.fit(x_train, y_train)\n",
    "\n",
    "clf4.best_params_"
   ]
  },
  {
   "cell_type": "code",
   "execution_count": 23,
   "metadata": {},
   "outputs": [
    {
     "name": "stdout",
     "output_type": "stream",
     "text": [
      "              precision    recall  f1-score   support\n",
      "\n",
      "         acc       0.81      0.87      0.84       108\n",
      "        good       0.60      0.32      0.41        19\n",
      "       unacc       0.96      0.97      0.97       369\n",
      "       vgood       0.79      0.65      0.71        23\n",
      "\n",
      "    accuracy                           0.91       519\n",
      "   macro avg       0.79      0.70      0.73       519\n",
      "weighted avg       0.91      0.91      0.91       519\n",
      "\n",
      "--------Balanced Accuracy Score--------\n",
      "0.7028083715238373\n",
      "-------Accuracy Score------------------\n",
      "0.9132947976878613\n"
     ]
    }
   ],
   "source": [
    "evaluate(clf4, 'ExTree')"
   ]
  },
  {
   "cell_type": "markdown",
   "metadata": {},
   "source": [
    "#### GradientBoosting classification model"
   ]
  },
  {
   "cell_type": "code",
   "execution_count": 24,
   "metadata": {
    "scrolled": true
   },
   "outputs": [
    {
     "data": {
      "text/plain": [
       "{'learning_rate': 0.1, 'n_estimators': 250}"
      ]
     },
     "execution_count": 24,
     "metadata": {},
     "output_type": "execute_result"
    }
   ],
   "source": [
    "parameters = { 'learning_rate':[0.1,0.01,0.001], 'n_estimators':[50,100,150,200,250] }\n",
    "gbc = ens.GradientBoostingClassifier(random_state=25)\n",
    "clf5 = sms.GridSearchCV(gbc, parameters)\n",
    "clf5.fit(x_train, y_train)\n",
    "\n",
    "clf5.best_params_"
   ]
  },
  {
   "cell_type": "code",
   "execution_count": 25,
   "metadata": {},
   "outputs": [
    {
     "name": "stdout",
     "output_type": "stream",
     "text": [
      "              precision    recall  f1-score   support\n",
      "\n",
      "         acc       0.97      0.98      0.98       108\n",
      "        good       0.86      0.95      0.90        19\n",
      "       unacc       1.00      0.99      1.00       369\n",
      "       vgood       0.96      0.96      0.96        23\n",
      "\n",
      "    accuracy                           0.99       519\n",
      "   macro avg       0.95      0.97      0.96       519\n",
      "weighted avg       0.99      0.99      0.99       519\n",
      "\n",
      "--------Balanced Accuracy Score--------\n",
      "0.9693103900909337\n",
      "-------Accuracy Score------------------\n",
      "0.9865125240847784\n"
     ]
    }
   ],
   "source": [
    "evaluate(clf5, 'GradientBC')"
   ]
  },
  {
   "cell_type": "markdown",
   "metadata": {},
   "source": [
    "#### AdaBoost classification model"
   ]
  },
  {
   "cell_type": "code",
   "execution_count": 26,
   "metadata": {},
   "outputs": [
    {
     "data": {
      "text/plain": [
       "{'learning_rate': 1, 'n_estimators': 50}"
      ]
     },
     "execution_count": 26,
     "metadata": {},
     "output_type": "execute_result"
    }
   ],
   "source": [
    "parameters = { 'learning_rate':[0.1, 1, 2], 'n_estimators':[50,100,150,200]}\n",
    "abc = ens.AdaBoostClassifier(random_state=25)\n",
    "clf6 = sms.GridSearchCV(abc, parameters)\n",
    "clf6.fit(x_train, y_train)\n",
    "\n",
    "clf6.best_params_"
   ]
  },
  {
   "cell_type": "code",
   "execution_count": 27,
   "metadata": {},
   "outputs": [
    {
     "name": "stdout",
     "output_type": "stream",
     "text": [
      "              precision    recall  f1-score   support\n",
      "\n",
      "         acc       0.71      0.59      0.65       108\n",
      "        good       0.50      0.37      0.42        19\n",
      "       unacc       0.91      0.96      0.93       369\n",
      "       vgood       0.78      0.78      0.78        23\n",
      "\n",
      "    accuracy                           0.86       519\n",
      "   macro avg       0.72      0.68      0.70       519\n",
      "weighted avg       0.84      0.86      0.85       519\n",
      "\n",
      "--------Balanced Accuracy Score--------\n",
      "0.6764204903681379\n",
      "-------Accuracy Score------------------\n",
      "0.8554913294797688\n"
     ]
    }
   ],
   "source": [
    "evaluate(clf6, 'AdaBC')"
   ]
  },
  {
   "cell_type": "code",
   "execution_count": 28,
   "metadata": {},
   "outputs": [
    {
     "data": {
      "text/html": [
       "<div>\n",
       "<style scoped>\n",
       "    .dataframe tbody tr th:only-of-type {\n",
       "        vertical-align: middle;\n",
       "    }\n",
       "\n",
       "    .dataframe tbody tr th {\n",
       "        vertical-align: top;\n",
       "    }\n",
       "\n",
       "    .dataframe thead th {\n",
       "        text-align: right;\n",
       "    }\n",
       "</style>\n",
       "<table border=\"1\" class=\"dataframe\">\n",
       "  <thead>\n",
       "    <tr style=\"text-align: right;\">\n",
       "      <th></th>\n",
       "      <th>Log_reg_0.5</th>\n",
       "      <th>SVC</th>\n",
       "      <th>R_Forest</th>\n",
       "      <th>ExTree</th>\n",
       "      <th>GradientBC</th>\n",
       "      <th>AdaBC</th>\n",
       "    </tr>\n",
       "  </thead>\n",
       "  <tbody>\n",
       "    <tr>\n",
       "      <th>BAS</th>\n",
       "      <td>0.913</td>\n",
       "      <td>0.960</td>\n",
       "      <td>0.682</td>\n",
       "      <td>0.703</td>\n",
       "      <td>0.969</td>\n",
       "      <td>0.676</td>\n",
       "    </tr>\n",
       "    <tr>\n",
       "      <th>AS</th>\n",
       "      <td>0.936</td>\n",
       "      <td>0.990</td>\n",
       "      <td>0.915</td>\n",
       "      <td>0.913</td>\n",
       "      <td>0.987</td>\n",
       "      <td>0.855</td>\n",
       "    </tr>\n",
       "  </tbody>\n",
       "</table>\n",
       "</div>"
      ],
      "text/plain": [
       "     Log_reg_0.5   SVC  R_Forest  ExTree  GradientBC  AdaBC\n",
       "BAS        0.913 0.960     0.682   0.703       0.969  0.676\n",
       "AS         0.936 0.990     0.915   0.913       0.987  0.855"
      ]
     },
     "execution_count": 28,
     "metadata": {},
     "output_type": "execute_result"
    }
   ],
   "source": [
    "performance"
   ]
  },
  {
   "cell_type": "markdown",
   "metadata": {},
   "source": [
    "I merged evaluation metrics and scores of all models we trained into **\"performance\"** in order to make the comparison. So, that can be seen some models performed better like **GradientBoost, SVC, Logistic** models. Particularly, doing of **hyperparameter tuning** boosted performance on closer optimal values"
   ]
  },
  {
   "cell_type": "markdown",
   "metadata": {},
   "source": [
    "According to the comparison of models performances, the **Support Vector Classification** is the optimal model to pick and to utilize as the major"
   ]
  },
  {
   "cell_type": "markdown",
   "metadata": {},
   "source": [
    "**Thanks**"
   ]
  }
 ],
 "metadata": {
  "kernelspec": {
   "display_name": "Python 3",
   "language": "python",
   "name": "python3"
  },
  "language_info": {
   "codemirror_mode": {
    "name": "ipython",
    "version": 3
   },
   "file_extension": ".py",
   "mimetype": "text/x-python",
   "name": "python",
   "nbconvert_exporter": "python",
   "pygments_lexer": "ipython3",
   "version": "3.7.3"
  }
 },
 "nbformat": 4,
 "nbformat_minor": 2
}
